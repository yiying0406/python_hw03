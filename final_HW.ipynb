{
 "cells": [
  {
   "cell_type": "code",
   "execution_count": 41,
   "metadata": {
    "collapsed": false
   },
   "outputs": [
    {
     "name": "stdout",
     "output_type": "stream",
     "text": [
      "       PassengerId      Pclass         Sex         Age       SibSp  \\\n",
      "count   418.000000  418.000000  418.000000  418.000000  418.000000   \n",
      "mean   1100.500000    2.265550    0.636364   29.599282    0.447368   \n",
      "std     120.810458    0.841838    0.481622   12.703770    0.896760   \n",
      "min     892.000000    1.000000    0.000000    0.170000    0.000000   \n",
      "25%     996.250000    1.000000    0.000000   23.000000    0.000000   \n",
      "50%    1100.500000    3.000000    1.000000   27.000000    0.000000   \n",
      "75%    1204.750000    3.000000    1.000000   35.750000    1.000000   \n",
      "max    1309.000000    3.000000    1.000000   76.000000    8.000000   \n",
      "\n",
      "            Parch        Fare    Embarked  \n",
      "count  418.000000  417.000000  418.000000  \n",
      "mean     0.392344   35.627188    1.401914  \n",
      "std      0.981429   55.907576    0.854496  \n",
      "min      0.000000    0.000000    0.000000  \n",
      "25%      0.000000    7.895800    1.000000  \n",
      "50%      0.000000   14.454200    2.000000  \n",
      "75%      0.000000   31.500000    2.000000  \n",
      "max      9.000000  512.329200    2.000000  \n"
     ]
    }
   ],
   "source": [
    "import pandas as pd\n",
    "import numpy as np\n",
    "import matplotlib.pyplot as plt\n",
    "from sklearn.preprocessing import LabelEncoder\n",
    "url = \"https://storage.googleapis.com/py_ds_basic/kaggle_titanic_test.csv\"\n",
    "titanic_test = pd.read_csv(url)\n",
    "# print(titanic_test.isnull().sum())\n",
    "age_median = np.nanmedian(titanic_test.Age)\n",
    "new_Age = np.where(titanic_test.Age.isnull(), age_median, titanic_test.Age)\n",
    "titanic_test.Age = new_Age\n",
    "# print(titanic_test.describe())\n",
    "# print(titanic_test.isnull())\n",
    "# plt.hist(titanic_test.Age)\n",
    "# plt.show()\n",
    "# print(titanic_test.Embarked.value_counts())\n",
    "new_Embarked = np.where(titanic_test.Embarked.isnull(), \"S\", titanic_test.Embarked)\n",
    "titanic_test.Embarked = new_Embarked\n",
    "# print(titanic_test.Embarked.isnull().sum())\n",
    "# print(titanic_test.describe())\n",
    "label_encoder =LabelEncoder()\n",
    "encoded_Sex = label_encoder.fit_transform(titanic_test.Sex)\n",
    "titanic_test.Sex = encoded_Sex\n",
    "encoded_Embarked = label_encoder.fit_transform(titanic_test.Embarked)\n",
    "titanic_test.Embarked = encoded_Embarked\n",
    "print(titanic_test.describe())\n"
   ]
  },
  {
   "cell_type": "code",
   "execution_count": null,
   "metadata": {
    "collapsed": true
   },
   "outputs": [],
   "source": []
  }
 ],
 "metadata": {
  "kernelspec": {
   "display_name": "Python 3",
   "language": "python",
   "name": "python3"
  }
 },
 "nbformat": 4,
 "nbformat_minor": 2
}
