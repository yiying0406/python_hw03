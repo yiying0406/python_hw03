{
 "cells": [
  {
   "cell_type": "code",
   "execution_count": 61,
   "metadata": {
    "collapsed": false
   },
   "outputs": [
    {
     "name": "stdout",
     "output_type": "stream",
     "text": [
      "0.794776119403\n",
      "[1 0 1 0 0]\n"
     ]
    }
   ],
   "source": [
    "import pandas as pd\n",
    "import numpy as np\n",
    "import matplotlib.pyplot as plt\n",
    "from sklearn.preprocessing import LabelEncoder\n",
    "\n",
    "url = \"https://storage.googleapis.com/py_ds_basic/kaggle_titanic_train.csv\"\n",
    "titanic_train = pd.read_csv(url)\n",
    "age_median = np.nanmedian(titanic_test.Age)\n",
    "new_Age = np.where(titanic_train.Age.isnull(), age_median, titanic_train.Age)\n",
    "titanic_train.Age = new_Age\n",
    "# print(titanic_train.describe())\n",
    "# print(titanic_train.isnull())\n",
    "# plt.hist(titanic_train.Age)\n",
    "# plt.show()\n",
    "# print(titanic_train.Embarked.value_counts())\n",
    "new_Embarked = np.where(titanic_train.Embarked.isnull(), \"S\", titanic_train.Embarked)\n",
    "titanic_train.Embarked = new_Embarked\n",
    "fare_median = np. nanmedian(titanic_train.Fare)\n",
    "new_Fare = np.where(titanic_train.Fare.isnull(), fare_median, titanic_train.Fare)\n",
    "titanic_train.Age = new_Age\n",
    "# print(titanic_train.Embarked.isnull().sum())\n",
    "# print(titanic_train.describe())\n",
    "label_encoder =LabelEncoder()\n",
    "encoded_Sex = label_encoder.fit_transform(titanic_train.Sex)\n",
    "titanic_train.Sex = encoded_Sex\n",
    "encoded_Embarked = label_encoder.fit_transform(titanic_train.Embarked)\n",
    "titanic_train.Embarked = encoded_Embarked\n",
    "#print(titanic_train.head())\n",
    "titanic_x = pd.DataFrame([titanic_train.Pclass,\n",
    "                          encoded_Sex,\n",
    "                          new_Age,\n",
    "                          new_Fare,\n",
    "                          encoded_Embarked\n",
    "]).T\n",
    "titanic_y = titanic_train.Survived\n",
    "# print(titanic_x.head())\n",
    "# print(titanic_y.head())\n",
    "# print(\"===\")\n",
    "from sklearn.cross_validation import train_test_split\n",
    "from sklearn import metrics, tree\n",
    "train_x, test_x, train_y, test_y = train_test_split(titanic_x,titanic_y, test_size = 0.3)\n",
    "decision_clf = tree.DecisionTreeClassifier(random_state= 87)\n",
    "decision_clf.fit(train_x,train_y)\n",
    "\n",
    "test_y_predicted = decision_clf.predict(test_x)\n",
    "\n",
    "accuracy = metrics.accuracy_score(test_y,test_y_predicted)\n",
    "print(accuracy)\n",
    "#print(titanic_test.isnull().sum())\n",
    "\n",
    "\n",
    "url = \"https://storage.googleapis.com/py_ds_basic/kaggle_titanic_test.csv\"\n",
    "to_submit = pd.read_csv(url)\n",
    "age_median = np.nanmedian(to_submit.Age)\n",
    "new_Age = np.where(to_submit.Age.isnull(), age_median, to_submit.Age)\n",
    "to_submit.Age = new_Age\n",
    "# print(titanic_test.describe())\n",
    "# print(titanic_test.isnull())\n",
    "# plt.hist(titanic_test.Age)\n",
    "# plt.show()\n",
    "# print(titanic_test.Embarked.value_counts())\n",
    "new_Embarked = np.where(to_submit.Embarked.isnull(), \"S\", to_submit.Embarked)\n",
    "to_submit.Embarked = new_Embarked\n",
    "fare_median = np. nanmedian(to_submit.Fare)\n",
    "new_Fare = np.where(to_submit.Fare.isnull(), fare_median, to_submit.Fare)\n",
    "to_submit.Age = new_Age\n",
    "# print(titanic_test.Embarked.isnull().sum())\n",
    "# print(titanic_test.describe())\n",
    "label_encoder =LabelEncoder()\n",
    "encoded_Sex = label_encoder.fit_transform(to_submit.Sex)\n",
    "to_submit.Sex = encoded_Sex\n",
    "encoded_Embarked = label_encoder.fit_transform(to_submit.Embarked)\n",
    "to_submit.Embarked = encoded_Embarked\n",
    "#print(to_submit.head())\n",
    "to_submit_x = pd.DataFrame([to_submit.Pclass,\n",
    "                          encoded_Sex,\n",
    "                          new_Age,\n",
    "                          new_Fare,\n",
    "                          encoded_Embarked\n",
    "]).T\n",
    "\n",
    "to_submit_y = decision_clf.predict(to_submit_x)\n",
    "print(to_submit_y[0:5])\n",
    "\n",
    "to_submit_dict ={\n",
    "    \"PassengerID\": to_submit[\"PassengerId\"],\n",
    "    \"Survived\": to_submit_y\n",
    "}\n",
    "\n",
    "to_submit_df = pd.DataFrame(to_submit_dict)\n",
    "\n",
    "to_submit_df.to_csv(\"to_submit.csv\" , index = False)"
   ]
  },
  {
   "cell_type": "code",
   "execution_count": null,
   "metadata": {
    "collapsed": true
   },
   "outputs": [],
   "source": []
  },
  {
   "cell_type": "code",
   "execution_count": null,
   "metadata": {
    "collapsed": true
   },
   "outputs": [],
   "source": []
  }
 ],
 "metadata": {
  "kernelspec": {
   "display_name": "Python 3",
   "language": "python",
   "name": "python3"
  },
  "language_info": {
   "codemirror_mode": {
    "name": "ipython",
    "version": 3
   },
   "file_extension": ".py",
   "mimetype": "text/x-python",
   "name": "python",
   "nbconvert_exporter": "python",
   "pygments_lexer": "ipython3",
   "version": "3.6.0"
  }
 },
 "nbformat": 4,
 "nbformat_minor": 2
}
